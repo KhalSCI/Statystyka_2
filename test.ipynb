{
 "cells": [
  {
   "cell_type": "code",
   "execution_count": 1,
   "id": "ebf047da",
   "metadata": {
    "vscode": {
     "languageId": "r"
    }
   },
   "outputs": [
    {
     "data": {
      "text/html": [
       "2.41862173515287"
      ],
      "text/latex": [
       "2.41862173515287"
      ],
      "text/markdown": [
       "2.41862173515287"
      ],
      "text/plain": [
       "[1] 2.418622"
      ]
     },
     "metadata": {},
     "output_type": "display_data"
    },
    {
     "data": {
      "text/html": [
       "<style>\n",
       ".list-inline {list-style: none; margin:0; padding: 0}\n",
       ".list-inline>li {display: inline-block}\n",
       ".list-inline>li:not(:last-child)::after {content: \"\\00b7\"; padding: 0 .5ex}\n",
       "</style>\n",
       "<ol class=list-inline><li>1.79588481870404</li><li>Inf</li></ol>\n"
      ],
      "text/latex": [
       "\\begin{enumerate*}\n",
       "\\item 1.79588481870404\n",
       "\\item Inf\n",
       "\\end{enumerate*}\n"
      ],
      "text/markdown": [
       "1. 1.79588481870404\n",
       "2. Inf\n",
       "\n",
       "\n"
      ],
      "text/plain": [
       "[1] 1.795885      Inf"
      ]
     },
     "metadata": {},
     "output_type": "display_data"
    },
    {
     "data": {
      "text/plain": [
       "\n",
       "\tOne Sample t-test\n",
       "\n",
       "data:  wiatr\n",
       "t = 2.4186, df = 11, p-value = 0.01705\n",
       "alternative hypothesis: true mean is greater than 4\n",
       "95 percent confidence interval:\n",
       " 4.175942      Inf\n",
       "sample estimates:\n",
       "mean of x \n",
       " 4.683333 \n"
      ]
     },
     "metadata": {},
     "output_type": "display_data"
    }
   ],
   "source": [
    "dane <- read.csv2(\"dane_hip.csv\")\n",
    "wiatr <- na.omit(dane[,1])\n",
    "pompa <- na.omit(dane[,2])\n",
    "morze <- na.omit(dane[,3])\n",
    "blaszki <- na.omit(dane[,4])\n",
    "mleko <- na.omit(dane[,5])\n",
    "kukulki <- na.omit(dane[,6])\n",
    "\n",
    "#zad01\n",
    "\n",
    "# H0: mu <= 4 m/s\n",
    "# H1: mu > 4 m/s\n",
    "\n",
    "mu <- 4\n",
    "alpha <- 0.05\n",
    "t <- (mean(wiatr)-mu)/sd(wiatr)*length(wiatr)^.5; t\n",
    "R <- c(qt(1-alpha, length(wiatr)-1), Inf); R\n",
    "# Odrzucamy H0\n",
    "# Na pozomie istotności alpha = 0.05 dane potwierdzają\n",
    "# hipotezę, że średnia prędkość wiatru przekracza 4 m/s\n",
    "# Wniosek: okolice Darłowa nadają się do budowy elektrowni wiatrowej\n",
    "\n",
    "t.test(wiatr, mu = 4, alternative = \"greater\")\n",
    "# alpha = 0.05 > p-value = 0.0171"
   ]
  },
  {
   "cell_type": "code",
   "execution_count": 5,
   "id": "bc6f7fb2",
   "metadata": {
    "vscode": {
     "languageId": "r"
    }
   },
   "outputs": [],
   "source": [
    "# install.packages(\"BSDA\")\n",
    "library(BSDA)"
   ]
  },
  {
   "cell_type": "code",
   "execution_count": 6,
   "id": "542860bf",
   "metadata": {
    "vscode": {
     "languageId": "r"
    }
   },
   "outputs": [
    {
     "data": {
      "text/plain": [
       "\n",
       "\tOne Sample t-test\n",
       "\n",
       "data:  pompa\n",
       "t = -1.0898, df = 9, p-value = 0.1521\n",
       "alternative hypothesis: true mean is less than 3.5\n",
       "95 percent confidence interval:\n",
       "     -Inf 3.602307\n",
       "sample estimates:\n",
       "mean of x \n",
       "     3.35 \n"
      ]
     },
     "metadata": {},
     "output_type": "display_data"
    },
    {
     "data": {
      "text/plain": [
       "\n",
       "\tOne-sample z-Test\n",
       "\n",
       "data:  morze\n",
       "z = -0.44721, p-value = 0.6547\n",
       "alternative hypothesis: true mean is not equal to 870\n",
       "95 percent confidence interval:\n",
       " 864.6174 873.3826\n",
       "sample estimates:\n",
       "mean of x \n",
       "      869 \n"
      ]
     },
     "metadata": {},
     "output_type": "display_data"
    }
   ],
   "source": [
    "#zad02\n",
    "\n",
    "# H0: mu >= 3.5\n",
    "# H1: mu < 3.5\n",
    "\n",
    "t.test(pompa, mu = 3.5, alternative = \"less\")\n",
    "# alpha = 0.01 < p-value = 0.153\n",
    "# Brak podstaw do odrzucenia H0\n",
    "\n",
    "\n",
    "#zad03\n",
    "\n",
    "# H0: mu = 870\n",
    "# H1: mu != 870\n",
    "\n",
    "\n",
    "z.test(morze, sigma.x = 5, mu = 870)\n",
    "# alpha = 0.05 < p-value = 0.655\n",
    "# Nie możemy odrzucić H0"
   ]
  },
  {
   "cell_type": "code",
   "execution_count": 7,
   "id": "740c49a5",
   "metadata": {
    "vscode": {
     "languageId": "r"
    }
   },
   "outputs": [
    {
     "data": {
      "text/plain": [
       "\n",
       "\tOne-sample z-Test\n",
       "\n",
       "data:  Summarized x\n",
       "z = 1.6409, p-value = 0.05041\n",
       "alternative hypothesis: true mean is greater than 0.04\n",
       "98 percent confidence interval:\n",
       " 0.03946529         NA\n",
       "sample estimates:\n",
       "mean of x \n",
       " 0.042125 \n"
      ]
     },
     "metadata": {},
     "output_type": "display_data"
    }
   ],
   "source": [
    "#zad04\n",
    "\n",
    "# H0: mu <= 0.04 mm\n",
    "# H1: mu > 0.04 mm\n",
    "\n",
    "zsum.test(mean(blaszki), sd(blaszki), length(blaszki), mu = 0.04, alternative = \"greater\", conf.level = 0.98)\n",
    "# alpha = 0.02 < p-value = 0.051\n",
    "# Nie możemy odrzucić H0\n",
    "# Na poziomie istotności aplha = 0.02 dane nie potwierdzają hipotezy,\n",
    "# że produkowane przez automat blaszki są grubsze niż nominalna grubość"
   ]
  }
 ],
 "metadata": {
  "kernelspec": {
   "display_name": "R",
   "language": "R",
   "name": "ir"
  },
  "language_info": {
   "codemirror_mode": "r",
   "file_extension": ".r",
   "mimetype": "text/x-r-source",
   "name": "R",
   "pygments_lexer": "r",
   "version": "4.1.2"
  }
 },
 "nbformat": 4,
 "nbformat_minor": 5
}
